{
 "metadata": {
  "name": "nonparametric_gp_regression_example.ipynb"
 },
 "nbformat": 3,
 "nbformat_minor": 0,
 "worksheets": [
  {
   "cells": [
    {
     "cell_type": "heading",
     "level": 1,
     "metadata": {},
     "source": [
      "neu_ml.code.algorithms.regression.nonparametric_gp_regression Example"
     ]
    },
    {
     "cell_type": "markdown",
     "metadata": {},
     "source": [
      "This example illustrates the use of **nonparametric_gp_regression**. Two examples will be considered: an example with sinusoids and an example with helices. We begin by importing the necessary packages:"
     ]
    },
    {
     "cell_type": "code",
     "collapsed": false,
     "input": [
      "import numpy as np\n",
      "import networkx as nx\n",
      "from neu_ml.code.algorithms.regression.gp_regressors \\\n",
      "    import GPRegressor\n",
      "from neu_ml.code.data.sample_sinusoid import sample_sinusoid\n",
      "from neu_ml.code.data.sample_polynomial import sample_polynomial\n",
      "from neu_ml.code.data.sample_helix import sample_helix\n",
      "from neu_ml.code.algorithms.regression.nonparametric_gp_regression \\\n",
      "    import nonparametric_gp_regression\n",
      "from neu_ml.code.visualization.plot_gp_regressors \\\n",
      "    import plot_gp_regressors\n",
      "from neu_ml.code.utils.constraints_generator import constraints_generator\n",
      "from neu_ml.code.visualization.constraints_plotter import constraints_plotter"
     ],
     "language": "python",
     "metadata": {},
     "outputs": [],
     "prompt_number": 1
    },
    {
     "cell_type": "heading",
     "level": 2,
     "metadata": {},
     "source": [
      "Example 1: Two sinusoids"
     ]
    },
    {
     "cell_type": "markdown",
     "metadata": {},
     "source": [
      "Set some parameters that will be used for creating each of the two sinusoids:"
     ]
    },
    {
     "cell_type": "code",
     "collapsed": false,
     "input": [
      "var = 0.02\n",
      "n_points = 50\n",
      "domain_range = np.array([0., 50.])"
     ],
     "language": "python",
     "metadata": {},
     "outputs": [],
     "prompt_number": 2
    },
    {
     "cell_type": "markdown",
     "metadata": {},
     "source": [
      "Generate samples from the first sinusoid:"
     ]
    },
    {
     "cell_type": "code",
     "collapsed": false,
     "input": [
      "amplitude = 1.4\n",
      "frequency = 0.13\n",
      "phase = 3.\n",
      "curve1 = sample_sinusoid(n_points, amplitude, frequency, phase,\n",
      "                         domain_range, var)"
     ],
     "language": "python",
     "metadata": {},
     "outputs": [],
     "prompt_number": 3
    },
    {
     "cell_type": "markdown",
     "metadata": {},
     "source": [
      "Now generate samples from a sinusoid with lower amplitude, higher frequency, and combined with a linear offset across the range:"
     ]
    },
    {
     "cell_type": "code",
     "collapsed": false,
     "input": [
      "amplitude = 0.8\n",
      "frequency = 0.125\n",
      "phase = 0.\n",
      "curve2 = sample_sinusoid(n_points, amplitude, frequency, phase,\n",
      "                         domain_range, var)\n",
      "offsets = sample_polynomial(domain_locs=curve2[:,0], cos=[0.05, -1])\n",
      "curve2[:, 1] += offsets[:, 1]"
     ],
     "language": "python",
     "metadata": {},
     "outputs": [],
     "prompt_number": 4
    },
    {
     "cell_type": "markdown",
     "metadata": {},
     "source": [
      "Let's plot this data to see what it looks like:"
     ]
    },
    {
     "cell_type": "code",
     "collapsed": false,
     "input": [
      "plt.scatter(curve1[:,0], curve1[:,1], 30, alpha=0.8, c='r')\n",
      "plt.scatter(curve2[:,0], curve2[:,1], 30, alpha=0.8, c='b')\n",
      "plt.show()"
     ],
     "language": "python",
     "metadata": {},
     "outputs": [
      {
       "output_type": "display_data",
       "png": "[encoded data removed]",
       "text": [
        "<matplotlib.figure.Figure at 0x10bf385d0>"
       ]
      }
     ],
     "prompt_number": 5
    },
    {
     "cell_type": "markdown",
     "metadata": {},
     "source": [
      "Stack the data from the two curves into one matrix:"
     ]
    },
    {
     "cell_type": "code",
     "collapsed": false,
     "input": [
      "data = np.vstack((curve1, curve2))"
     ],
     "language": "python",
     "metadata": {},
     "outputs": [],
     "prompt_number": 6
    },
    {
     "cell_type": "markdown",
     "metadata": {},
     "source": [
      "Now we need to define parameter values to pass to **nonparametric_gp_regression**. We begin by defining a kernel to be used for the Gaussian Processes. Making the second parameter smaller puts more prior mass on \"straighter\" curves\" and vice versa."
     ]
    },
    {
     "cell_type": "code",
     "collapsed": false,
     "input": [
      "kernel_name   = 'gaussian'\n",
      "kernel_params = np.array([1.0, 0.005])\n",
      "kernel = [kernel_name, kernel_params]"
     ],
     "language": "python",
     "metadata": {},
     "outputs": [],
     "prompt_number": 7
    },
    {
     "cell_type": "markdown",
     "metadata": {},
     "source": [
      "Define additional parameters to pass:"
     ]
    },
    {
     "cell_type": "code",
     "collapsed": false,
     "input": [
      "inputs  = np.atleast_2d(data[:, 0]).T\n",
      "targets = np.atleast_2d(data[:, 1]).T\n",
      "beta   = 1.0/var \n",
      "alpha  = 1.0\n",
      "iters  = 30\n",
      "K = 20\n",
      "prob_thresh = 0.001"
     ],
     "language": "python",
     "metadata": {},
     "outputs": [],
     "prompt_number": 8
    },
    {
     "cell_type": "markdown",
     "metadata": {},
     "source": [
      "And now run the algorithm. The print out below shows, for each iteration, how many instances are assigned to each of the 20 (K=20) curves. Note that by default 'repeats' is set to 1. This parameter specifies how many times to execute the algorithm with random initializations; the repeat with the highest variational lower bound is recorded and returned when the algorithm finishes executing. For the sake of this simple example, we will only specify one repeat."
     ]
    },
    {
     "cell_type": "code",
     "collapsed": false,
     "input": [
      "regressors, z_disc_R, lower_bound = nonparametric_gp_regression(inputs, targets,\n",
      "                                        kernel, beta, alpha, iters, K, prob_thresh, repeats=1)"
     ],
     "language": "python",
     "metadata": {},
     "outputs": [
      {
       "output_type": "stream",
       "stream": "stdout",
       "text": [
        "[ 43.  30.  14.  11.   1.   1.   0.   0.   0.   0.   0.   0.   0.   0.   0.\n",
        "   0.   0.   0.   0.   0.]\n",
        "[ 35.  39.  13.  12.   0.   0.   0.   0.   0.   0.   0.   0.   0.   0.   0.\n",
        "   0.   0.   0.   0.   0.]"
       ]
      },
      {
       "output_type": "stream",
       "stream": "stdout",
       "text": [
        "\n",
        "[ 31.  43.  12.  14.   0.   0.   0.   0.   0.   0.   0.   0.   0.   0.   0.\n",
        "   0.   0.   0.   0.   0.]"
       ]
      },
      {
       "output_type": "stream",
       "stream": "stdout",
       "text": [
        "\n",
        "[ 28.  44.  11.  16.   0.   0.   0.   0.   0.   0.   0.   0.   0.   0.   0.\n",
        "   0.   0.   0.   0.   0.]"
       ]
      },
      {
       "output_type": "stream",
       "stream": "stdout",
       "text": [
        "\n",
        "[ 26.  45.  10.  19.   0.   0.   0.   0.   0.   0.   0.   0.   0.   0.   0.\n",
        "   0.   0.   0.   0.   0.]"
       ]
      },
      {
       "output_type": "stream",
       "stream": "stdout",
       "text": [
        "\n",
        "[ 24.  45.   9.  22.   0.   0.   0.   0.   0.   0.   0.   0.   0.   0.   0.\n",
        "   0.   0.   0.   0.   0.]"
       ]
      },
      {
       "output_type": "stream",
       "stream": "stdout",
       "text": [
        "\n",
        "[ 22.  45.   7.  26.   0.   0.   0.   0.   0.   0.   0.   0.   0.   0.   0.\n",
        "   0.   0.   0.   0.   0.]"
       ]
      },
      {
       "output_type": "stream",
       "stream": "stdout",
       "text": [
        "\n",
        "[ 20.  45.   6.  28.   0.   0.   0.   0.   0.   0.   0.   0.   0.   0.   0.\n",
        "   0.   0.   0.   0.   0.]"
       ]
      },
      {
       "output_type": "stream",
       "stream": "stdout",
       "text": [
        "\n",
        "[ 19.  45.   5.  31.   0.   0.   0.   0.   0.   0.   0.   0.   0.   0.   0.\n",
        "   0.   0.   0.   0.   0.]"
       ]
      },
      {
       "output_type": "stream",
       "stream": "stdout",
       "text": [
        "\n",
        "[ 17.  46.   3.  34.   0.   0.   0.   0.   0.   0.   0.   0.   0.   0.   0.\n",
        "   0.   0.   0.   0.   0.]"
       ]
      },
      {
       "output_type": "stream",
       "stream": "stdout",
       "text": [
        "\n",
        "[ 16.  46.   2.  37.   0.   0.   0.   0.   0.   0.   0.   0.   0.   0.   0.\n",
        "   0.   0.   0.   0.   0.]"
       ]
      },
      {
       "output_type": "stream",
       "stream": "stdout",
       "text": [
        "\n",
        "[ 14.  46.   1.  39.   0.   0.   0.   0.   0.   0.   0.   0.   0.   0.   0.\n",
        "   0.   0.   0.   0.   0.]"
       ]
      },
      {
       "output_type": "stream",
       "stream": "stdout",
       "text": [
        "\n",
        "[ 13.  46.   0.  41.   0.   0.   0.   0.   0.   0.   0.   0.   0.   0.   0.\n",
        "   0.   0.   0.   0.   0.]"
       ]
      },
      {
       "output_type": "stream",
       "stream": "stdout",
       "text": [
        "\n",
        "[ 11.  46.   0.  43.   0.   0.   0.   0.   0.   0.   0.   0.   0.   0.   0.\n",
        "   0.   0.   0.   0.   0.]"
       ]
      },
      {
       "output_type": "stream",
       "stream": "stdout",
       "text": [
        "\n",
        "[  9.  46.   0.  45.   0.   0.   0.   0.   0.   0.   0.   0.   0.   0.   0.\n",
        "   0.   0.   0.   0.   0.]"
       ]
      },
      {
       "output_type": "stream",
       "stream": "stdout",
       "text": [
        "\n",
        "[  7.  46.   0.  46.   0.   0.   0.   0.   0.   0.   0.   0.   0.   0.   0.\n",
        "   0.   0.   0.   0.   0.]"
       ]
      },
      {
       "output_type": "stream",
       "stream": "stdout",
       "text": [
        "\n",
        "[  5.  47.   0.  48.   0.   0.   0.   0.   0.   0.   0.   0.   0.   0.   0.\n",
        "   0.   0.   0.   0.   0.]"
       ]
      },
      {
       "output_type": "stream",
       "stream": "stdout",
       "text": [
        "\n",
        "[  3.  47.   0.  49.   0.   0.   0.   0.   0.   0.   0.   0.   0.   0.   0.\n",
        "   0.   0.   0.   0.   0.]"
       ]
      },
      {
       "output_type": "stream",
       "stream": "stdout",
       "text": [
        "\n",
        "[  1.  48.   0.  50.   0.   0.   0.   0.   0.   0.   0.   0.   0.   0.   0.\n",
        "   0.   0.   0.   0.   0.]"
       ]
      },
      {
       "output_type": "stream",
       "stream": "stdout",
       "text": [
        "\n",
        "[  0.  49.   0.  51.   0.   0.   0.   0.   0.   0.   0.   0.   0.   0.   0.\n",
        "   0.   0.   0.   0.   0.]"
       ]
      },
      {
       "output_type": "stream",
       "stream": "stdout",
       "text": [
        "\n",
        "[  0.  49.   0.  51.   0.   0.   0.   0.   0.   0.   0.   0.   0.   0.   0.\n",
        "   0.   0.   0.   0.   0.]"
       ]
      },
      {
       "output_type": "stream",
       "stream": "stdout",
       "text": [
        "\n",
        "[  0.  49.   0.  51.   0.   0.   0.   0.   0.   0.   0.   0.   0.   0.   0.\n",
        "   0.   0.   0.   0.   0.]"
       ]
      },
      {
       "output_type": "stream",
       "stream": "stdout",
       "text": [
        "\n",
        "[  0.  49.   0.  51.   0.   0.   0.   0.   0.   0.   0.   0.   0.   0.   0.\n",
        "   0.   0.   0.   0.   0.]"
       ]
      },
      {
       "output_type": "stream",
       "stream": "stdout",
       "text": [
        "\n",
        "[  0.  49.   0.  51.   0.   0.   0.   0.   0.   0.   0.   0.   0.   0.   0.\n",
        "   0.   0.   0.   0.   0.]"
       ]
      },
      {
       "output_type": "stream",
       "stream": "stdout",
       "text": [
        "\n",
        "[  0.  49.   0.  51.   0.   0.   0.   0.   0.   0.   0.   0.   0.   0.   0.\n",
        "   0.   0.   0.   0.   0.]"
       ]
      },
      {
       "output_type": "stream",
       "stream": "stdout",
       "text": [
        "\n",
        "[  0.  49.   0.  51.   0.   0.   0.   0.   0.   0.   0.   0.   0.   0.   0.\n",
        "   0.   0.   0.   0.   0.]"
       ]
      },
      {
       "output_type": "stream",
       "stream": "stdout",
       "text": [
        "\n",
        "[  0.  49.   0.  51.   0.   0.   0.   0.   0.   0.   0.   0.   0.   0.   0.\n",
        "   0.   0.   0.   0.   0.]"
       ]
      },
      {
       "output_type": "stream",
       "stream": "stdout",
       "text": [
        "\n",
        "[  0.  49.   0.  51.   0.   0.   0.   0.   0.   0.   0.   0.   0.   0.   0.\n",
        "   0.   0.   0.   0.   0.]"
       ]
      },
      {
       "output_type": "stream",
       "stream": "stdout",
       "text": [
        "\n",
        "[  0.  49.   0.  51.   0.   0.   0.   0.   0.   0.   0.   0.   0.   0.   0.\n",
        "   0.   0.   0.   0.   0.]"
       ]
      },
      {
       "output_type": "stream",
       "stream": "stdout",
       "text": [
        "\n",
        "[  0.  49.   0.  51.   0.   0.   0.   0.   0.   0.   0.   0.   0.   0.   0.\n",
        "   0.   0.   0.   0.   0.]"
       ]
      },
      {
       "output_type": "stream",
       "stream": "stdout",
       "text": [
        "\n"
       ]
      }
     ],
     "prompt_number": 9
    },
    {
     "cell_type": "markdown",
     "metadata": {},
     "source": [
      "Plot the results to see how we did:"
     ]
    },
    {
     "cell_type": "code",
     "collapsed": false,
     "input": [
      "plot_gp_regressors(regressors)"
     ],
     "language": "python",
     "metadata": {},
     "outputs": [
      {
       "output_type": "display_data",
       "png": "[encoded data removed]",
       "text": [
        "<matplotlib.figure.Figure at 0x10b29e590>"
       ]
      }
     ],
     "prompt_number": 10
    },
    {
     "cell_type": "heading",
     "level": 3,
     "metadata": {},
     "source": [
      "Example 2: Two Helices"
     ]
    },
    {
     "cell_type": "markdown",
     "metadata": {},
     "source": [
      "Let's now consider two intertwined helices. The input variable is z, and the task is fit regression curves to the x and y data. Let's start by generating some data to work with. First define parameter values common to both helices:"
     ]
    },
    {
     "cell_type": "code",
     "collapsed": false,
     "input": [
      "n_points = 100\n",
      "freq1 = 0.04\n",
      "var = 0.1"
     ],
     "language": "python",
     "metadata": {},
     "outputs": [],
     "prompt_number": 11
    },
    {
     "cell_type": "markdown",
     "metadata": {},
     "source": [
      "Now generate samples from the first helix:"
     ]
    },
    {
     "cell_type": "code",
     "collapsed": false,
     "input": [
      "x_amp1 = 1.0\n",
      "y_amp1 = 1.0\n",
      "x_phase1 = 2.7\n",
      "y_phase1 = 2.7\n",
      "z_range = np.array([0.0, 200.0])\n",
      "data1 = sample_helix(n_points, z_range, var, freq1, x_amp1, y_amp1,\n",
      "                     x_phase=x_phase1, y_phase=y_phase1)"
     ],
     "language": "python",
     "metadata": {},
     "outputs": [],
     "prompt_number": 12
    },
    {
     "cell_type": "markdown",
     "metadata": {},
     "source": [
      "And generate samples from the second helix:"
     ]
    },
    {
     "cell_type": "code",
     "collapsed": false,
     "input": [
      "freq2 = 0.04\n",
      "x_amp2 = 1.0\n",
      "y_amp2 = 1.0\n",
      "x_phase2 = 0.0\n",
      "y_phase2 = 0.0    \n",
      "data2 = sample_helix(n_points, z_range, var, freq2, x_amp2, y_amp2,\n",
      "                     x_phase=x_phase2, y_phase=y_phase2)"
     ],
     "language": "python",
     "metadata": {},
     "outputs": [],
     "prompt_number": 13
    },
    {
     "cell_type": "markdown",
     "metadata": {},
     "source": [
      "Let's plot this data to see what it looks like:"
     ]
    },
    {
     "cell_type": "code",
     "collapsed": false,
     "input": [
      "fig = plt.figure()\n",
      "ax = fig.add_subplot(111, projection='3d')\n",
      "ax.scatter(data1[:, 0], data1[:, 1], data1[:, 2], c='r')\n",
      "ax.scatter(data2[:, 0], data2[:, 1], data2[:, 2], c='b')\n",
      "plt.show()"
     ],
     "language": "python",
     "metadata": {},
     "outputs": [
      {
       "output_type": "display_data",
       "png": "[encoded data removed]",
       "text": [
        "<matplotlib.figure.Figure at 0x10c96a550>"
       ]
      }
     ],
     "prompt_number": 14
    },
    {
     "cell_type": "markdown",
     "metadata": {},
     "source": [
      "Prepare the inputs to **nonparametric_gp_regression**. First stack the data and then define the inputs and targets:"
     ]
    },
    {
     "cell_type": "code",
     "collapsed": false,
     "input": [
      "data = np.vstack((data1, data2))\n",
      "inputs  = np.atleast_2d(data[:, 2]).T\n",
      "targets = np.atleast_2d(data[:, 0:2])"
     ],
     "language": "python",
     "metadata": {},
     "outputs": [],
     "prompt_number": 20
    },
    {
     "cell_type": "markdown",
     "metadata": {},
     "source": [
      "Define the kernel to be used for the Gaussian Processes:"
     ]
    },
    {
     "cell_type": "code",
     "collapsed": false,
     "input": [
      "kernel_name   = 'gaussian'\n",
      "kernel_params = np.array([1.0, 0.001])\n",
      "kernel = [kernel_name, kernel_params]"
     ],
     "language": "python",
     "metadata": {},
     "outputs": [],
     "prompt_number": 21
    },
    {
     "cell_type": "markdown",
     "metadata": {},
     "source": [
      "And specificy other parameters to pass:"
     ]
    },
    {
     "cell_type": "code",
     "collapsed": false,
     "input": [
      "beta   = 1.0/var \n",
      "alpha  = 1.\n",
      "iters  = 100\n",
      "K = 20\n",
      "prob_thresh = 0.001"
     ],
     "language": "python",
     "metadata": {},
     "outputs": [],
     "prompt_number": 22
    },
    {
     "cell_type": "markdown",
     "metadata": {},
     "source": [
      "Now run the algorithm. Note that we are currently running with no constraints. The print out below shows, for each iteration, how many instances are assigned to each of the 20 (K=20) curves."
     ]
    },
    {
     "cell_type": "code",
     "collapsed": false,
     "input": [
      "regressors, z_disc_R, lower_bound = nonparametric_gp_regression(inputs, targets,\n",
      "    \t\t\t\t     kernel, beta, alpha, iters, K, prob_thresh)"
     ],
     "language": "python",
     "metadata": {},
     "outputs": [
      {
       "output_type": "stream",
       "stream": "stdout",
       "text": [
        "[ 115.   48.   22.   12.    3.    1.    1.    0.    0.    0.    0.    0.\n",
        "    0.    0.    0.    0.    0.    0.    0.    0.]\n",
        "[ 79.  60.  34.  24.   2.   0.   0.   0.   0.   0.   0.   0.   0.   0.   0.\n",
        "   0.   0.   0.   0.   0.]"
       ]
      },
      {
       "output_type": "stream",
       "stream": "stdout",
       "text": [
        "\n",
        "[ 73.  70.  30.  25.   1.   0.   0.   0.   0.   0.   0.   0.   0.   0.   0.\n",
        "   0.   0.   0.   0.   0.]"
       ]
      },
      {
       "output_type": "stream",
       "stream": "stdout",
       "text": [
        "\n",
        "[ 74.  76.  26.  24.   0.   0.   0.   0.   0.   0.   0.   0.   0.   0.   0.\n",
        "   0.   0.   0.   0.   0.]"
       ]
      },
      {
       "output_type": "stream",
       "stream": "stdout",
       "text": [
        "\n",
        "[ 73.  80.  23.  23.   0.   0.   0.   0.   0.   0.   0.   0.   0.   0.   0.\n",
        "   0.   0.   0.   0.   0.]"
       ]
      },
      {
       "output_type": "stream",
       "stream": "stdout",
       "text": [
        "\n",
        "[ 73.  82.  23.  22.   0.   0.   0.   0.   0.   0.   0.   0.   0.   0.   0.\n",
        "   0.   0.   0.   0.   0.]"
       ]
      },
      {
       "output_type": "stream",
       "stream": "stdout",
       "text": [
        "\n",
        "[ 72.  84.  23.  21.   0.   0.   0.   0.   0.   0.   0.   0.   0.   0.   0.\n",
        "   0.   0.   0.   0.   0.]"
       ]
      },
      {
       "output_type": "stream",
       "stream": "stdout",
       "text": [
        "\n",
        "[ 72.  86.  22.  20.   0.   0.   0.   0.   0.   0.   0.   0.   0.   0.   0.\n",
        "   0.   0.   0.   0.   0.]"
       ]
      },
      {
       "output_type": "stream",
       "stream": "stdout",
       "text": [
        "\n",
        "[ 72.  87.  22.  19.   0.   0.   0.   0.   0.   0.   0.   0.   0.   0.   0.\n",
        "   0.   0.   0.   0.   0.]"
       ]
      },
      {
       "output_type": "stream",
       "stream": "stdout",
       "text": [
        "\n",
        "[ 72.  88.  22.  17.   0.   0.   0.   0.   0.   0.   0.   0.   0.   0.   0.\n",
        "   0.   0.   0.   0.   0.]"
       ]
      },
      {
       "output_type": "stream",
       "stream": "stdout",
       "text": [
        "\n",
        "[ 72.  90.  22.  16.   0.   0.   0.   0.   0.   0.   0.   0.   0.   0.   0.\n",
        "   0.   0.   0.   0.   0.]"
       ]
      },
      {
       "output_type": "stream",
       "stream": "stdout",
       "text": [
        "\n",
        "[ 72.  91.  22.  15.   0.   0.   0.   0.   0.   0.   0.   0.   0.   0.   0.\n",
        "   0.   0.   0.   0.   0.]"
       ]
      },
      {
       "output_type": "stream",
       "stream": "stdout",
       "text": [
        "\n",
        "[ 72.  92.  22.  13.   0.   0.   0.   0.   0.   0.   0.   0.   0.   0.   0.\n",
        "   0.   0.   0.   0.   0.]"
       ]
      },
      {
       "output_type": "stream",
       "stream": "stdout",
       "text": [
        "\n",
        "[ 72.  94.  22.  12.   0.   0.   0.   0.   0.   0.   0.   0.   0.   0.   0.\n",
        "   0.   0.   0.   0.   0.]"
       ]
      },
      {
       "output_type": "stream",
       "stream": "stdout",
       "text": [
        "\n",
        "[ 73.  96.  22.  10.   0.   0.   0.   0.   0.   0.   0.   0.   0.   0.   0.\n",
        "   0.   0.   0.   0.   0.]"
       ]
      },
      {
       "output_type": "stream",
       "stream": "stdout",
       "text": [
        "\n",
        "[ 73.  97.  22.   8.   0.   0.   0.   0.   0.   0.   0.   0.   0.   0.   0.\n",
        "   0.   0.   0.   0.   0.]"
       ]
      },
      {
       "output_type": "stream",
       "stream": "stdout",
       "text": [
        "\n",
        "[ 73.  99.  22.   6.   0.   0.   0.   0.   0.   0.   0.   0.   0.   0.   0.\n",
        "   0.   0.   0.   0.   0.]"
       ]
      },
      {
       "output_type": "stream",
       "stream": "stdout",
       "text": [
        "\n",
        "[  73.  100.   22.    4.    0.    0.    0.    0.    0.    0.    0.    0.\n",
        "    0.    0.    0.    0.    0.    0.    0.    0.]"
       ]
      },
      {
       "output_type": "stream",
       "stream": "stdout",
       "text": [
        "\n",
        "[  73.  101.   22.    3.    0.    0.    0.    0.    0.    0.    0.    0.\n",
        "    0.    0.    0.    0.    0.    0.    0.    0.]"
       ]
      },
      {
       "output_type": "stream",
       "stream": "stdout",
       "text": [
        "\n",
        "[  73.  102.   23.    2.    0.    0.    0.    0.    0.    0.    0.    0.\n",
        "    0.    0.    0.    0.    0.    0.    0.    0.]"
       ]
      },
      {
       "output_type": "stream",
       "stream": "stdout",
       "text": [
        "\n",
        "[  73.  102.   23.    1.    0.    0.    0.    0.    0.    0.    0.    0.\n",
        "    0.    0.    0.    0.    0.    0.    0.    0.]"
       ]
      },
      {
       "output_type": "stream",
       "stream": "stdout",
       "text": [
        "\n",
        "[  73.  103.   23.    1.    0.    0.    0.    0.    0.    0.    0.    0.\n",
        "    0.    0.    0.    0.    0.    0.    0.    0.]"
       ]
      },
      {
       "output_type": "stream",
       "stream": "stdout",
       "text": [
        "\n",
        "[  73.  102.   24.    1.    0.    0.    0.    0.    0.    0.    0.    0.\n",
        "    0.    0.    0.    0.    0.    0.    0.    0.]"
       ]
      },
      {
       "output_type": "stream",
       "stream": "stdout",
       "text": [
        "\n",
        "[  73.  102.   24.    1.    0.    0.    0.    0.    0.    0.    0.    0.\n",
        "    0.    0.    0.    0.    0.    0.    0.    0.]"
       ]
      },
      {
       "output_type": "stream",
       "stream": "stdout",
       "text": [
        "\n",
        "[  72.  102.   25.    1.    0.    0.    0.    0.    0.    0.    0.    0.\n",
        "    0.    0.    0.    0.    0.    0.    0.    0.]"
       ]
      },
      {
       "output_type": "stream",
       "stream": "stdout",
       "text": [
        "\n",
        "[  72.  102.   25.    1.    0.    0.    0.    0.    0.    0.    0.    0.\n",
        "    0.    0.    0.    0.    0.    0.    0.    0.]"
       ]
      },
      {
       "output_type": "stream",
       "stream": "stdout",
       "text": [
        "\n",
        "[  72.  102.   26.    1.    0.    0.    0.    0.    0.    0.    0.    0.\n",
        "    0.    0.    0.    0.    0.    0.    0.    0.]"
       ]
      },
      {
       "output_type": "stream",
       "stream": "stdout",
       "text": [
        "\n",
        "[  72.  102.   26.    1.    0.    0.    0.    0.    0.    0.    0.    0.\n",
        "    0.    0.    0.    0.    0.    0.    0.    0.]"
       ]
      },
      {
       "output_type": "stream",
       "stream": "stdout",
       "text": [
        "\n",
        "[  71.  101.   27.    1.    0.    0.    0.    0.    0.    0.    0.    0.\n",
        "    0.    0.    0.    0.    0.    0.    0.    0.]"
       ]
      },
      {
       "output_type": "stream",
       "stream": "stdout",
       "text": [
        "\n",
        "[  71.  101.   28.    0.    0.    0.    0.    0.    0.    0.    0.    0.\n",
        "    0.    0.    0.    0.    0.    0.    0.    0.]"
       ]
      },
      {
       "output_type": "stream",
       "stream": "stdout",
       "text": [
        "\n",
        "[  71.  101.   28.    0.    0.    0.    0.    0.    0.    0.    0.    0.\n",
        "    0.    0.    0.    0.    0.    0.    0.    0.]"
       ]
      },
      {
       "output_type": "stream",
       "stream": "stdout",
       "text": [
        "\n",
        "[  70.  101.   29.    0.    0.    0.    0.    0.    0.    0.    0.    0.\n",
        "    0.    0.    0.    0.    0.    0.    0.    0.]"
       ]
      },
      {
       "output_type": "stream",
       "stream": "stdout",
       "text": [
        "\n",
        "[  70.  100.   30.    0.    0.    0.    0.    0.    0.    0.    0.    0.\n",
        "    0.    0.    0.    0.    0.    0.    0.    0.]"
       ]
      },
      {
       "output_type": "stream",
       "stream": "stdout",
       "text": [
        "\n",
        "[ 69.  99.  32.   0.   0.   0.   0.   0.   0.   0.   0.   0.   0.   0.   0.\n",
        "   0.   0.   0.   0.   0.]"
       ]
      },
      {
       "output_type": "stream",
       "stream": "stdout",
       "text": [
        "\n",
        "[ 69.  98.  33.   0.   0.   0.   0.   0.   0.   0.   0.   0.   0.   0.   0.\n",
        "   0.   0.   0.   0.   0.]"
       ]
      },
      {
       "output_type": "stream",
       "stream": "stdout",
       "text": [
        "\n",
        "[ 68.  98.  35.   0.   0.   0.   0.   0.   0.   0.   0.   0.   0.   0.   0.\n",
        "   0.   0.   0.   0.   0.]"
       ]
      },
      {
       "output_type": "stream",
       "stream": "stdout",
       "text": [
        "\n",
        "[ 67.  97.  36.   0.   0.   0.   0.   0.   0.   0.   0.   0.   0.   0.   0.\n",
        "   0.   0.   0.   0.   0.]"
       ]
      },
      {
       "output_type": "stream",
       "stream": "stdout",
       "text": [
        "\n",
        "[ 66.  96.  38.   0.   0.   0.   0.   0.   0.   0.   0.   0.   0.   0.   0.\n",
        "   0.   0.   0.   0.   0.]"
       ]
      },
      {
       "output_type": "stream",
       "stream": "stdout",
       "text": [
        "\n",
        "[ 65.  95.  40.   0.   0.   0.   0.   0.   0.   0.   0.   0.   0.   0.   0.\n",
        "   0.   0.   0.   0.   0.]"
       ]
      },
      {
       "output_type": "stream",
       "stream": "stdout",
       "text": [
        "\n",
        "[ 65.  94.  41.   0.   0.   0.   0.   0.   0.   0.   0.   0.   0.   0.   0.\n",
        "   0.   0.   0.   0.   0.]"
       ]
      },
      {
       "output_type": "stream",
       "stream": "stdout",
       "text": [
        "\n",
        "[ 64.  94.  42.   0.   0.   0.   0.   0.   0.   0.   0.   0.   0.   0.   0.\n",
        "   0.   0.   0.   0.   0.]"
       ]
      },
      {
       "output_type": "stream",
       "stream": "stdout",
       "text": [
        "\n",
        "[ 63.  93.  44.   0.   0.   0.   0.   0.   0.   0.   0.   0.   0.   0.   0.\n",
        "   0.   0.   0.   0.   0.]"
       ]
      },
      {
       "output_type": "stream",
       "stream": "stdout",
       "text": [
        "\n",
        "[ 62.  93.  45.   0.   0.   0.   0.   0.   0.   0.   0.   0.   0.   0.   0.\n",
        "   0.   0.   0.   0.   0.]"
       ]
      },
      {
       "output_type": "stream",
       "stream": "stdout",
       "text": [
        "\n",
        "[ 62.  93.  46.   0.   0.   0.   0.   0.   0.   0.   0.   0.   0.   0.   0.\n",
        "   0.   0.   0.   0.   0.]"
       ]
      },
      {
       "output_type": "stream",
       "stream": "stdout",
       "text": [
        "\n",
        "[ 61.  92.  47.   0.   0.   0.   0.   0.   0.   0.   0.   0.   0.   0.   0.\n",
        "   0.   0.   0.   0.   0.]"
       ]
      },
      {
       "output_type": "stream",
       "stream": "stdout",
       "text": [
        "\n",
        "[ 61.  92.  47.   0.   0.   0.   0.   0.   0.   0.   0.   0.   0.   0.   0.\n",
        "   0.   0.   0.   0.   0.]"
       ]
      },
      {
       "output_type": "stream",
       "stream": "stdout",
       "text": [
        "\n",
        "[ 60.  92.  48.   0.   0.   0.   0.   0.   0.   0.   0.   0.   0.   0.   0.\n",
        "   0.   0.   0.   0.   0.]"
       ]
      },
      {
       "output_type": "stream",
       "stream": "stdout",
       "text": [
        "\n",
        "[ 60.  91.  49.   0.   0.   0.   0.   0.   0.   0.   0.   0.   0.   0.   0.\n",
        "   0.   0.   0.   0.   0.]"
       ]
      },
      {
       "output_type": "stream",
       "stream": "stdout",
       "text": [
        "\n",
        "[ 59.  91.  50.   0.   0.   0.   0.   0.   0.   0.   0.   0.   0.   0.   0.\n",
        "   0.   0.   0.   0.   0.]"
       ]
      },
      {
       "output_type": "stream",
       "stream": "stdout",
       "text": [
        "\n",
        "[ 59.  90.  51.   0.   0.   0.   0.   0.   0.   0.   0.   0.   0.   0.   0.\n",
        "   0.   0.   0.   0.   0.]"
       ]
      },
      {
       "output_type": "stream",
       "stream": "stdout",
       "text": [
        "\n",
        "[ 58.  90.  52.   0.   0.   0.   0.   0.   0.   0.   0.   0.   0.   0.   0.\n",
        "   0.   0.   0.   0.   0.]"
       ]
      },
      {
       "output_type": "stream",
       "stream": "stdout",
       "text": [
        "\n",
        "[ 58.  89.  53.   0.   0.   0.   0.   0.   0.   0.   0.   0.   0.   0.   0.\n",
        "   0.   0.   0.   0.   0.]"
       ]
      },
      {
       "output_type": "stream",
       "stream": "stdout",
       "text": [
        "\n",
        "[ 57.  89.  54.   0.   0.   0.   0.   0.   0.   0.   0.   0.   0.   0.   0.\n",
        "   0.   0.   0.   0.   0.]"
       ]
      },
      {
       "output_type": "stream",
       "stream": "stdout",
       "text": [
        "\n",
        "[ 57.  88.  55.   0.   0.   0.   0.   0.   0.   0.   0.   0.   0.   0.   0.\n",
        "   0.   0.   0.   0.   0.]"
       ]
      },
      {
       "output_type": "stream",
       "stream": "stdout",
       "text": [
        "\n",
        "[ 56.  88.  56.   0.   0.   0.   0.   0.   0.   0.   0.   0.   0.   0.   0.\n",
        "   0.   0.   0.   0.   0.]"
       ]
      },
      {
       "output_type": "stream",
       "stream": "stdout",
       "text": [
        "\n",
        "[ 55.  88.  57.   0.   0.   0.   0.   0.   0.   0.   0.   0.   0.   0.   0.\n",
        "   0.   0.   0.   0.   0.]"
       ]
      },
      {
       "output_type": "stream",
       "stream": "stdout",
       "text": [
        "\n",
        "[ 54.  88.  58.   0.   0.   0.   0.   0.   0.   0.   0.   0.   0.   0.   0.\n",
        "   0.   0.   0.   0.   0.]"
       ]
      },
      {
       "output_type": "stream",
       "stream": "stdout",
       "text": [
        "\n",
        "[ 54.  88.  58.   0.   0.   0.   0.   0.   0.   0.   0.   0.   0.   0.   0.\n",
        "   0.   0.   0.   0.   0.]"
       ]
      },
      {
       "output_type": "stream",
       "stream": "stdout",
       "text": [
        "\n",
        "[ 53.  88.  59.   0.   0.   0.   0.   0.   0.   0.   0.   0.   0.   0.   0.\n",
        "   0.   0.   0.   0.   0.]"
       ]
      },
      {
       "output_type": "stream",
       "stream": "stdout",
       "text": [
        "\n",
        "[ 52.  89.  59.   0.   0.   0.   0.   0.   0.   0.   0.   0.   0.   0.   0.\n",
        "   0.   0.   0.   0.   0.]"
       ]
      },
      {
       "output_type": "stream",
       "stream": "stdout",
       "text": [
        "\n",
        "[ 52.  89.  59.   0.   0.   0.   0.   0.   0.   0.   0.   0.   0.   0.   0.\n",
        "   0.   0.   0.   0.   0.]"
       ]
      },
      {
       "output_type": "stream",
       "stream": "stdout",
       "text": [
        "\n",
        "[ 51.  89.  60.   0.   0.   0.   0.   0.   0.   0.   0.   0.   0.   0.   0.\n",
        "   0.   0.   0.   0.   0.]"
       ]
      },
      {
       "output_type": "stream",
       "stream": "stdout",
       "text": [
        "\n",
        "[ 51.  89.  60.   0.   0.   0.   0.   0.   0.   0.   0.   0.   0.   0.   0.\n",
        "   0.   0.   0.   0.   0.]"
       ]
      },
      {
       "output_type": "stream",
       "stream": "stdout",
       "text": [
        "\n",
        "[ 51.  89.  60.   0.   0.   0.   0.   0.   0.   0.   0.   0.   0.   0.   0.\n",
        "   0.   0.   0.   0.   0.]"
       ]
      },
      {
       "output_type": "stream",
       "stream": "stdout",
       "text": [
        "\n",
        "[ 50.  89.  60.   0.   0.   0.   0.   0.   0.   0.   0.   0.   0.   0.   0.\n",
        "   0.   0.   0.   0.   0.]"
       ]
      },
      {
       "output_type": "stream",
       "stream": "stdout",
       "text": [
        "\n",
        "[ 50.  90.  61.   0.   0.   0.   0.   0.   0.   0.   0.   0.   0.   0.   0.\n",
        "   0.   0.   0.   0.   0.]"
       ]
      },
      {
       "output_type": "stream",
       "stream": "stdout",
       "text": [
        "\n",
        "[ 49.  90.  61.   0.   0.   0.   0.   0.   0.   0.   0.   0.   0.   0.   0.\n",
        "   0.   0.   0.   0.   0.]"
       ]
      },
      {
       "output_type": "stream",
       "stream": "stdout",
       "text": [
        "\n",
        "[ 49.  90.  61.   0.   0.   0.   0.   0.   0.   0.   0.   0.   0.   0.   0.\n",
        "   0.   0.   0.   0.   0.]"
       ]
      },
      {
       "output_type": "stream",
       "stream": "stdout",
       "text": [
        "\n",
        "[ 49.  90.  61.   0.   0.   0.   0.   0.   0.   0.   0.   0.   0.   0.   0.\n",
        "   0.   0.   0.   0.   0.]"
       ]
      },
      {
       "output_type": "stream",
       "stream": "stdout",
       "text": [
        "\n",
        "[ 48.  90.  62.   0.   0.   0.   0.   0.   0.   0.   0.   0.   0.   0.   0.\n",
        "   0.   0.   0.   0.   0.]"
       ]
      },
      {
       "output_type": "stream",
       "stream": "stdout",
       "text": [
        "\n",
        "[ 48.  90.  62.   0.   0.   0.   0.   0.   0.   0.   0.   0.   0.   0.   0.\n",
        "   0.   0.   0.   0.   0.]"
       ]
      },
      {
       "output_type": "stream",
       "stream": "stdout",
       "text": [
        "\n",
        "[ 47.  91.  62.   0.   0.   0.   0.   0.   0.   0.   0.   0.   0.   0.   0.\n",
        "   0.   0.   0.   0.   0.]"
       ]
      },
      {
       "output_type": "stream",
       "stream": "stdout",
       "text": [
        "\n",
        "[ 47.  91.  63.   0.   0.   0.   0.   0.   0.   0.   0.   0.   0.   0.   0.\n",
        "   0.   0.   0.   0.   0.]"
       ]
      },
      {
       "output_type": "stream",
       "stream": "stdout",
       "text": [
        "\n",
        "[ 46.  90.  63.   0.   0.   0.   0.   0.   0.   0.   0.   0.   0.   0.   0.\n",
        "   0.   0.   0.   0.   0.]"
       ]
      },
      {
       "output_type": "stream",
       "stream": "stdout",
       "text": [
        "\n",
        "[ 46.  90.  64.   0.   0.   0.   0.   0.   0.   0.   0.   0.   0.   0.   0.\n",
        "   0.   0.   0.   0.   0.]"
       ]
      },
      {
       "output_type": "stream",
       "stream": "stdout",
       "text": [
        "\n",
        "[ 46.  90.  64.   0.   0.   0.   0.   0.   0.   0.   0.   0.   0.   0.   0.\n",
        "   0.   0.   0.   0.   0.]"
       ]
      },
      {
       "output_type": "stream",
       "stream": "stdout",
       "text": [
        "\n",
        "[ 45.  90.  65.   0.   0.   0.   0.   0.   0.   0.   0.   0.   0.   0.   0.\n",
        "   0.   0.   0.   0.   0.]"
       ]
      },
      {
       "output_type": "stream",
       "stream": "stdout",
       "text": [
        "\n",
        "[ 44.  90.  65.   0.   0.   0.   0.   0.   0.   0.   0.   0.   0.   0.   0.\n",
        "   0.   0.   0.   0.   0.]"
       ]
      },
      {
       "output_type": "stream",
       "stream": "stdout",
       "text": [
        "\n",
        "[ 44.  91.  65.   0.   0.   0.   0.   0.   0.   0.   0.   0.   0.   0.   0.\n",
        "   0.   0.   0.   0.   0.]"
       ]
      },
      {
       "output_type": "stream",
       "stream": "stdout",
       "text": [
        "\n",
        "[ 43.  91.  66.   0.   0.   0.   0.   0.   0.   0.   0.   0.   0.   0.   0.\n",
        "   0.   0.   0.   0.   0.]"
       ]
      },
      {
       "output_type": "stream",
       "stream": "stdout",
       "text": [
        "\n",
        "[ 43.  91.  66.   0.   0.   0.   0.   0.   0.   0.   0.   0.   0.   0.   0.\n",
        "   0.   0.   0.   0.   0.]"
       ]
      },
      {
       "output_type": "stream",
       "stream": "stdout",
       "text": [
        "\n",
        "[ 43.  91.  66.   0.   0.   0.   0.   0.   0.   0.   0.   0.   0.   0.   0.\n",
        "   0.   0.   0.   0.   0.]"
       ]
      },
      {
       "output_type": "stream",
       "stream": "stdout",
       "text": [
        "\n",
        "[ 42.  91.  67.   0.   0.   0.   0.   0.   0.   0.   0.   0.   0.   0.   0.\n",
        "   0.   0.   0.   0.   0.]"
       ]
      },
      {
       "output_type": "stream",
       "stream": "stdout",
       "text": [
        "\n",
        "[ 42.  91.  67.   0.   0.   0.   0.   0.   0.   0.   0.   0.   0.   0.   0.\n",
        "   0.   0.   0.   0.   0.]"
       ]
      },
      {
       "output_type": "stream",
       "stream": "stdout",
       "text": [
        "\n",
        "[ 42.  91.  67.   0.   0.   0.   0.   0.   0.   0.   0.   0.   0.   0.   0.\n",
        "   0.   0.   0.   0.   0.]"
       ]
      },
      {
       "output_type": "stream",
       "stream": "stdout",
       "text": [
        "\n",
        "[ 42.  91.  67.   0.   0.   0.   0.   0.   0.   0.   0.   0.   0.   0.   0.\n",
        "   0.   0.   0.   0.   0.]"
       ]
      },
      {
       "output_type": "stream",
       "stream": "stdout",
       "text": [
        "\n",
        "[ 42.  91.  67.   0.   0.   0.   0.   0.   0.   0.   0.   0.   0.   0.   0.\n",
        "   0.   0.   0.   0.   0.]"
       ]
      },
      {
       "output_type": "stream",
       "stream": "stdout",
       "text": [
        "\n",
        "[ 42.  91.  67.   0.   0.   0.   0.   0.   0.   0.   0.   0.   0.   0.   0.\n",
        "   0.   0.   0.   0.   0.]"
       ]
      },
      {
       "output_type": "stream",
       "stream": "stdout",
       "text": [
        "\n",
        "[ 42.  91.  67.   0.   0.   0.   0.   0.   0.   0.   0.   0.   0.   0.   0.\n",
        "   0.   0.   0.   0.   0.]"
       ]
      },
      {
       "output_type": "stream",
       "stream": "stdout",
       "text": [
        "\n",
        "[ 42.  91.  67.   0.   0.   0.   0.   0.   0.   0.   0.   0.   0.   0.   0.\n",
        "   0.   0.   0.   0.   0.]"
       ]
      },
      {
       "output_type": "stream",
       "stream": "stdout",
       "text": [
        "\n",
        "[ 42.  91.  67.   0.   0.   0.   0.   0.   0.   0.   0.   0.   0.   0.   0.\n",
        "   0.   0.   0.   0.   0.]"
       ]
      },
      {
       "output_type": "stream",
       "stream": "stdout",
       "text": [
        "\n",
        "[ 42.  91.  67.   0.   0.   0.   0.   0.   0.   0.   0.   0.   0.   0.   0.\n",
        "   0.   0.   0.   0.   0.]"
       ]
      },
      {
       "output_type": "stream",
       "stream": "stdout",
       "text": [
        "\n",
        "[ 42.  91.  67.   0.   0.   0.   0.   0.   0.   0.   0.   0.   0.   0.   0.\n",
        "   0.   0.   0.   0.   0.]"
       ]
      },
      {
       "output_type": "stream",
       "stream": "stdout",
       "text": [
        "\n",
        "[ 42.  91.  67.   0.   0.   0.   0.   0.   0.   0.   0.   0.   0.   0.   0.\n",
        "   0.   0.   0.   0.   0.]"
       ]
      },
      {
       "output_type": "stream",
       "stream": "stdout",
       "text": [
        "\n",
        "[ 42.  91.  67.   0.   0.   0.   0.   0.   0.   0.   0.   0.   0.   0.   0.\n",
        "   0.   0.   0.   0.   0.]"
       ]
      },
      {
       "output_type": "stream",
       "stream": "stdout",
       "text": [
        "\n",
        "[ 42.  91.  67.   0.   0.   0.   0.   0.   0.   0.   0.   0.   0.   0.   0.\n",
        "   0.   0.   0.   0.   0.]"
       ]
      },
      {
       "output_type": "stream",
       "stream": "stdout",
       "text": [
        "\n",
        "[ 42.  91.  67.   0.   0.   0.   0.   0.   0.   0.   0.   0.   0.   0.   0.\n",
        "   0.   0.   0.   0.   0.]"
       ]
      },
      {
       "output_type": "stream",
       "stream": "stdout",
       "text": [
        "\n",
        "[ 42.  91.  67.   0.   0.   0.   0.   0.   0.   0.   0.   0.   0.   0.   0.\n",
        "   0.   0.   0.   0.   0.]"
       ]
      },
      {
       "output_type": "stream",
       "stream": "stdout",
       "text": [
        "\n",
        "[ 42.  91.  67.   0.   0.   0.   0.   0.   0.   0.   0.   0.   0.   0.   0.\n",
        "   0.   0.   0.   0.   0.]"
       ]
      },
      {
       "output_type": "stream",
       "stream": "stdout",
       "text": [
        "\n",
        "[ 42.  91.  67.   0.   0.   0.   0.   0.   0.   0.   0.   0.   0.   0.   0.\n",
        "   0.   0.   0.   0.   0.]"
       ]
      },
      {
       "output_type": "stream",
       "stream": "stdout",
       "text": [
        "\n"
       ]
      }
     ],
     "prompt_number": 23
    },
    {
     "cell_type": "markdown",
     "metadata": {},
     "source": [
      "Plot the results to see how we did:"
     ]
    },
    {
     "cell_type": "code",
     "collapsed": false,
     "input": [
      "plot_gp_regressors(regressors)"
     ],
     "language": "python",
     "metadata": {},
     "outputs": [
      {
       "output_type": "display_data",
       "png": "[encoded data removed]",
       "text": [
        "<matplotlib.figure.Figure at 0x10cf60510>"
       ]
      }
     ],
     "prompt_number": 24
    },
    {
     "cell_type": "markdown",
     "metadata": {},
     "source": [
      "This result may not be satisfactory. We can improve things by generating constraints to inform the algorithm which pairs of points should be grouped together and which pairs should be grouped apart. Use the **constraints_generator** to randomly generate 50 must-link and 50 cannot-link constraints. Restrict the constraints such that the cardinality of any sub-graph formed by the constraints is 5 or less."
     ]
    },
    {
     "cell_type": "code",
     "collapsed": false,
     "input": [
      "num_must_links = 50\n",
      "num_cannot_links = 50\n",
      "cardinality_thresh = 5\n",
      "index_group1 = np.arange(0, n_points)\n",
      "index_group2 = np.arange(n_points, 2*n_points)\n",
      "constraints_graph = constraints_generator([index_group1, index_group2],\n",
      "                                          num_must_links, num_cannot_links,\n",
      "                                          cardinality_thresh=cardinality_thresh)"
     ],
     "language": "python",
     "metadata": {},
     "outputs": [],
     "prompt_number": 25
    },
    {
     "cell_type": "markdown",
     "metadata": {},
     "source": [
      "Let's plot the constraints to get a feel for what they look like:"
     ]
    },
    {
     "cell_type": "code",
     "collapsed": false,
     "input": [
      "constraints_plotter(data, constraints_graph) "
     ],
     "language": "python",
     "metadata": {},
     "outputs": [
      {
       "output_type": "display_data",
       "png": "[encoded data removed]",
       "text": [
        "<matplotlib.figure.Figure at 0x10c986bd0>"
       ]
      }
     ],
     "prompt_number": 26
    },
    {
     "cell_type": "markdown",
     "metadata": {},
     "source": [
      "Let's see if the addition of these constraints improves matters:"
     ]
    },
    {
     "cell_type": "code",
     "collapsed": false,
     "input": [
      "regressors, z_disc_R, lower_bound = nonparametric_gp_regression(inputs, targets,\n",
      "    \t\t\t\t     kernel, beta, alpha, iters, K, prob_thresh,\n",
      "                         constraints=constraints_graph)"
     ],
     "language": "python",
     "metadata": {},
     "outputs": [
      {
       "output_type": "stream",
       "stream": "stdout",
       "text": [
        "[ 114.   48.   24.    7.    5.    2.    0.    0.    0.    0.    0.    0.\n",
        "    0.    0.    0.    0.    0.    0.    0.    0.]\n",
        "[ 80.  46.  52.  15.   5.   1.   0.   0.   0.   0.   0.   0.   0.   0.   0.\n",
        "   0.   0.   0.   0.   0.]"
       ]
      },
      {
       "output_type": "stream",
       "stream": "stdout",
       "text": [
        "\n",
        "[ 73.  37.  77.   9.   3.   1.   0.   0.   0.   0.   0.   0.   0.   0.   0.\n",
        "   0.   0.   0.   0.   0.]"
       ]
      },
      {
       "output_type": "stream",
       "stream": "stdout",
       "text": [
        "\n",
        "[ 83.  20.  91.   5.   1.   1.   0.   0.   0.   0.   0.   0.   0.   0.   0.\n",
        "   0.   0.   0.   0.   0.]"
       ]
      },
      {
       "output_type": "stream",
       "stream": "stdout",
       "text": [
        "\n",
        "[ 91.  10.  95.   2.   0.   1.   0.   0.   0.   0.   0.   0.   0.   0.   0.\n",
        "   0.   0.   0.   0.   0.]"
       ]
      },
      {
       "output_type": "stream",
       "stream": "stdout",
       "text": [
        "\n",
        "[ 96.   5.  97.   1.   0.   1.   0.   0.   0.   0.   0.   0.   0.   0.   0.\n",
        "   0.   0.   0.   0.   0.]"
       ]
      },
      {
       "output_type": "stream",
       "stream": "stdout",
       "text": [
        "\n",
        "[ 99.   2.  98.   1.   0.   1.   0.   0.   0.   0.   0.   0.   0.   0.   0.\n",
        "   0.   0.   0.   0.   0.]"
       ]
      },
      {
       "output_type": "stream",
       "stream": "stdout",
       "text": [
        "\n",
        "[ 100.    1.   98.    1.    0.    1.    0.    0.    0.    0.    0.    0.\n",
        "    0.    0.    0.    0.    0.    0.    0.    0.]"
       ]
      },
      {
       "output_type": "stream",
       "stream": "stdout",
       "text": [
        "\n",
        "[ 100.    0.   98.    1.    0.    1.    0.    0.    0.    0.    0.    0.\n",
        "    0.    0.    0.    0.    0.    0.    0.    0.]"
       ]
      },
      {
       "output_type": "stream",
       "stream": "stdout",
       "text": [
        "\n",
        "[ 100.    0.   99.    0.    0.    1.    0.    0.    0.    0.    0.    0.\n",
        "    0.    0.    0.    0.    0.    0.    0.    0.]"
       ]
      },
      {
       "output_type": "stream",
       "stream": "stdout",
       "text": [
        "\n",
        "[ 100.    0.   99.    0.    0.    1.    0.    0.    0.    0.    0.    0.\n",
        "    0.    0.    0.    0.    0.    0.    0.    0.]"
       ]
      },
      {
       "output_type": "stream",
       "stream": "stdout",
       "text": [
        "\n",
        "[ 100.    0.   99.    0.    0.    1.    0.    0.    0.    0.    0.    0.\n",
        "    0.    0.    0.    0.    0.    0.    0.    0.]"
       ]
      },
      {
       "output_type": "stream",
       "stream": "stdout",
       "text": [
        "\n",
        "[ 100.    0.   99.    0.    0.    1.    0.    0.    0.    0.    0.    0.\n",
        "    0.    0.    0.    0.    0.    0.    0.    0.]"
       ]
      },
      {
       "output_type": "stream",
       "stream": "stdout",
       "text": [
        "\n",
        "[ 100.    0.   99.    0.    0.    1.    0.    0.    0.    0.    0.    0.\n",
        "    0.    0.    0.    0.    0.    0.    0.    0.]"
       ]
      },
      {
       "output_type": "stream",
       "stream": "stdout",
       "text": [
        "\n",
        "[ 100.    0.   99.    0.    0.    1.    0.    0.    0.    0.    0.    0.\n",
        "    0.    0.    0.    0.    0.    0.    0.    0.]"
       ]
      },
      {
       "output_type": "stream",
       "stream": "stdout",
       "text": [
        "\n",
        "[ 100.    0.   99.    0.    0.    1.    0.    0.    0.    0.    0.    0.\n",
        "    0.    0.    0.    0.    0.    0.    0.    0.]"
       ]
      },
      {
       "output_type": "stream",
       "stream": "stdout",
       "text": [
        "\n",
        "[ 100.    0.   99.    0.    0.    1.    0.    0.    0.    0.    0.    0.\n",
        "    0.    0.    0.    0.    0.    0.    0.    0.]"
       ]
      },
      {
       "output_type": "stream",
       "stream": "stdout",
       "text": [
        "\n",
        "[ 100.    0.   99.    0.    0.    1.    0.    0.    0.    0.    0.    0.\n",
        "    0.    0.    0.    0.    0.    0.    0.    0.]"
       ]
      },
      {
       "output_type": "stream",
       "stream": "stdout",
       "text": [
        "\n",
        "[ 100.    0.   99.    0.    0.    1.    0.    0.    0.    0.    0.    0.\n",
        "    0.    0.    0.    0.    0.    0.    0.    0.]"
       ]
      },
      {
       "output_type": "stream",
       "stream": "stdout",
       "text": [
        "\n",
        "[ 100.    0.   99.    0.    0.    1.    0.    0.    0.    0.    0.    0.\n",
        "    0.    0.    0.    0.    0.    0.    0.    0.]"
       ]
      },
      {
       "output_type": "stream",
       "stream": "stdout",
       "text": [
        "\n",
        "[ 100.    0.   99.    0.    0.    1.    0.    0.    0.    0.    0.    0.\n",
        "    0.    0.    0.    0.    0.    0.    0.    0.]"
       ]
      },
      {
       "output_type": "stream",
       "stream": "stdout",
       "text": [
        "\n",
        "[ 100.    0.   99.    0.    0.    1.    0.    0.    0.    0.    0.    0.\n",
        "    0.    0.    0.    0.    0.    0.    0.    0.]"
       ]
      },
      {
       "output_type": "stream",
       "stream": "stdout",
       "text": [
        "\n",
        "[ 100.    0.   99.    0.    0.    1.    0.    0.    0.    0.    0.    0.\n",
        "    0.    0.    0.    0.    0.    0.    0.    0.]"
       ]
      },
      {
       "output_type": "stream",
       "stream": "stdout",
       "text": [
        "\n",
        "[ 100.    0.   99.    0.    0.    1.    0.    0.    0.    0.    0.    0.\n",
        "    0.    0.    0.    0.    0.    0.    0.    0.]"
       ]
      },
      {
       "output_type": "stream",
       "stream": "stdout",
       "text": [
        "\n",
        "[ 100.    0.   99.    0.    0.    1.    0.    0.    0.    0.    0.    0.\n",
        "    0.    0.    0.    0.    0.    0.    0.    0.]"
       ]
      },
      {
       "output_type": "stream",
       "stream": "stdout",
       "text": [
        "\n",
        "[ 100.    0.   99.    0.    0.    1.    0.    0.    0.    0.    0.    0.\n",
        "    0.    0.    0.    0.    0.    0.    0.    0.]"
       ]
      },
      {
       "output_type": "stream",
       "stream": "stdout",
       "text": [
        "\n",
        "[ 100.    0.   99.    0.    0.    1.    0.    0.    0.    0.    0.    0.\n",
        "    0.    0.    0.    0.    0.    0.    0.    0.]"
       ]
      },
      {
       "output_type": "stream",
       "stream": "stdout",
       "text": [
        "\n",
        "[ 100.    0.   99.    0.    0.    1.    0.    0.    0.    0.    0.    0.\n",
        "    0.    0.    0.    0.    0.    0.    0.    0.]"
       ]
      },
      {
       "output_type": "stream",
       "stream": "stdout",
       "text": [
        "\n",
        "[ 100.    0.   99.    0.    0.    1.    0.    0.    0.    0.    0.    0.\n",
        "    0.    0.    0.    0.    0.    0.    0.    0.]"
       ]
      },
      {
       "output_type": "stream",
       "stream": "stdout",
       "text": [
        "\n",
        "[ 100.    0.   99.    0.    0.    1.    0.    0.    0.    0.    0.    0.\n",
        "    0.    0.    0.    0.    0.    0.    0.    0.]"
       ]
      },
      {
       "output_type": "stream",
       "stream": "stdout",
       "text": [
        "\n",
        "[ 100.    0.   99.    0.    0.    1.    0.    0.    0.    0.    0.    0.\n",
        "    0.    0.    0.    0.    0.    0.    0.    0.]"
       ]
      },
      {
       "output_type": "stream",
       "stream": "stdout",
       "text": [
        "\n",
        "[ 100.    0.   99.    0.    0.    1.    0.    0.    0.    0.    0.    0.\n",
        "    0.    0.    0.    0.    0.    0.    0.    0.]"
       ]
      },
      {
       "output_type": "stream",
       "stream": "stdout",
       "text": [
        "\n",
        "[ 100.    0.   99.    0.    0.    1.    0.    0.    0.    0.    0.    0.\n",
        "    0.    0.    0.    0.    0.    0.    0.    0.]"
       ]
      },
      {
       "output_type": "stream",
       "stream": "stdout",
       "text": [
        "\n",
        "[ 100.    0.   99.    0.    0.    1.    0.    0.    0.    0.    0.    0.\n",
        "    0.    0.    0.    0.    0.    0.    0.    0.]"
       ]
      },
      {
       "output_type": "stream",
       "stream": "stdout",
       "text": [
        "\n",
        "[ 100.    0.   99.    0.    0.    1.    0.    0.    0.    0.    0.    0.\n",
        "    0.    0.    0.    0.    0.    0.    0.    0.]"
       ]
      },
      {
       "output_type": "stream",
       "stream": "stdout",
       "text": [
        "\n",
        "[ 100.    0.   99.    0.    0.    1.    0.    0.    0.    0.    0.    0.\n",
        "    0.    0.    0.    0.    0.    0.    0.    0.]"
       ]
      },
      {
       "output_type": "stream",
       "stream": "stdout",
       "text": [
        "\n",
        "[ 100.    0.   99.    0.    0.    1.    0.    0.    0.    0.    0.    0.\n",
        "    0.    0.    0.    0.    0.    0.    0.    0.]"
       ]
      },
      {
       "output_type": "stream",
       "stream": "stdout",
       "text": [
        "\n",
        "[ 100.    0.   99.    0.    0.    1.    0.    0.    0.    0.    0.    0.\n",
        "    0.    0.    0.    0.    0.    0.    0.    0.]"
       ]
      },
      {
       "output_type": "stream",
       "stream": "stdout",
       "text": [
        "\n",
        "[ 100.    0.   99.    0.    0.    1.    0.    0.    0.    0.    0.    0.\n",
        "    0.    0.    0.    0.    0.    0.    0.    0.]"
       ]
      },
      {
       "output_type": "stream",
       "stream": "stdout",
       "text": [
        "\n",
        "[ 100.    0.   99.    0.    0.    1.    0.    0.    0.    0.    0.    0.\n",
        "    0.    0.    0.    0.    0.    0.    0.    0.]"
       ]
      },
      {
       "output_type": "stream",
       "stream": "stdout",
       "text": [
        "\n",
        "[ 100.    0.   99.    0.    0.    1.    0.    0.    0.    0.    0.    0.\n",
        "    0.    0.    0.    0.    0.    0.    0.    0.]"
       ]
      },
      {
       "output_type": "stream",
       "stream": "stdout",
       "text": [
        "\n",
        "[ 100.    0.   99.    0.    0.    1.    0.    0.    0.    0.    0.    0.\n",
        "    0.    0.    0.    0.    0.    0.    0.    0.]"
       ]
      },
      {
       "output_type": "stream",
       "stream": "stdout",
       "text": [
        "\n",
        "[ 100.    0.   99.    0.    0.    1.    0.    0.    0.    0.    0.    0.\n",
        "    0.    0.    0.    0.    0.    0.    0.    0.]"
       ]
      },
      {
       "output_type": "stream",
       "stream": "stdout",
       "text": [
        "\n",
        "[ 100.    0.   99.    0.    0.    1.    0.    0.    0.    0.    0.    0.\n",
        "    0.    0.    0.    0.    0.    0.    0.    0.]"
       ]
      },
      {
       "output_type": "stream",
       "stream": "stdout",
       "text": [
        "\n",
        "[ 100.    0.   99.    0.    0.    1.    0.    0.    0.    0.    0.    0.\n",
        "    0.    0.    0.    0.    0.    0.    0.    0.]"
       ]
      },
      {
       "output_type": "stream",
       "stream": "stdout",
       "text": [
        "\n",
        "[ 100.    0.   99.    0.    0.    1.    0.    0.    0.    0.    0.    0.\n",
        "    0.    0.    0.    0.    0.    0.    0.    0.]"
       ]
      },
      {
       "output_type": "stream",
       "stream": "stdout",
       "text": [
        "\n",
        "[ 100.    0.   99.    0.    0.    1.    0.    0.    0.    0.    0.    0.\n",
        "    0.    0.    0.    0.    0.    0.    0.    0.]"
       ]
      },
      {
       "output_type": "stream",
       "stream": "stdout",
       "text": [
        "\n",
        "[ 100.    0.   99.    0.    0.    1.    0.    0.    0.    0.    0.    0.\n",
        "    0.    0.    0.    0.    0.    0.    0.    0.]"
       ]
      },
      {
       "output_type": "stream",
       "stream": "stdout",
       "text": [
        "\n",
        "[ 100.    0.   99.    0.    0.    1.    0.    0.    0.    0.    0.    0.\n",
        "    0.    0.    0.    0.    0.    0.    0.    0.]"
       ]
      },
      {
       "output_type": "stream",
       "stream": "stdout",
       "text": [
        "\n",
        "[ 100.    0.   99.    0.    0.    1.    0.    0.    0.    0.    0.    0.\n",
        "    0.    0.    0.    0.    0.    0.    0.    0.]"
       ]
      },
      {
       "output_type": "stream",
       "stream": "stdout",
       "text": [
        "\n",
        "[ 100.    0.   99.    0.    0.    1.    0.    0.    0.    0.    0.    0.\n",
        "    0.    0.    0.    0.    0.    0.    0.    0.]"
       ]
      },
      {
       "output_type": "stream",
       "stream": "stdout",
       "text": [
        "\n",
        "[ 100.    0.   99.    0.    0.    1.    0.    0.    0.    0.    0.    0.\n",
        "    0.    0.    0.    0.    0.    0.    0.    0.]"
       ]
      },
      {
       "output_type": "stream",
       "stream": "stdout",
       "text": [
        "\n",
        "[ 100.    0.   99.    0.    0.    1.    0.    0.    0.    0.    0.    0.\n",
        "    0.    0.    0.    0.    0.    0.    0.    0.]"
       ]
      },
      {
       "output_type": "stream",
       "stream": "stdout",
       "text": [
        "\n",
        "[ 100.    0.   99.    0.    0.    1.    0.    0.    0.    0.    0.    0.\n",
        "    0.    0.    0.    0.    0.    0.    0.    0.]"
       ]
      },
      {
       "output_type": "stream",
       "stream": "stdout",
       "text": [
        "\n",
        "[ 100.    0.   99.    0.    0.    1.    0.    0.    0.    0.    0.    0.\n",
        "    0.    0.    0.    0.    0.    0.    0.    0.]"
       ]
      },
      {
       "output_type": "stream",
       "stream": "stdout",
       "text": [
        "\n",
        "[ 100.    0.   99.    0.    0.    1.    0.    0.    0.    0.    0.    0.\n",
        "    0.    0.    0.    0.    0.    0.    0.    0.]"
       ]
      },
      {
       "output_type": "stream",
       "stream": "stdout",
       "text": [
        "\n",
        "[ 100.    0.   99.    0.    0.    1.    0.    0.    0.    0.    0.    0.\n",
        "    0.    0.    0.    0.    0.    0.    0.    0.]"
       ]
      },
      {
       "output_type": "stream",
       "stream": "stdout",
       "text": [
        "\n",
        "[ 100.    0.   99.    0.    0.    1.    0.    0.    0.    0.    0.    0.\n",
        "    0.    0.    0.    0.    0.    0.    0.    0.]"
       ]
      },
      {
       "output_type": "stream",
       "stream": "stdout",
       "text": [
        "\n",
        "[ 100.    0.   99.    0.    0.    1.    0.    0.    0.    0.    0.    0.\n",
        "    0.    0.    0.    0.    0.    0.    0.    0.]"
       ]
      },
      {
       "output_type": "stream",
       "stream": "stdout",
       "text": [
        "\n",
        "[ 100.    0.   99.    0.    0.    1.    0.    0.    0.    0.    0.    0.\n",
        "    0.    0.    0.    0.    0.    0.    0.    0.]"
       ]
      },
      {
       "output_type": "stream",
       "stream": "stdout",
       "text": [
        "\n",
        "[ 100.    0.   99.    0.    0.    1.    0.    0.    0.    0.    0.    0.\n",
        "    0.    0.    0.    0.    0.    0.    0.    0.]"
       ]
      },
      {
       "output_type": "stream",
       "stream": "stdout",
       "text": [
        "\n",
        "[ 100.    0.   99.    0.    0.    1.    0.    0.    0.    0.    0.    0.\n",
        "    0.    0.    0.    0.    0.    0.    0.    0.]"
       ]
      },
      {
       "output_type": "stream",
       "stream": "stdout",
       "text": [
        "\n",
        "[ 100.    0.   99.    0.    0.    1.    0.    0.    0.    0.    0.    0.\n",
        "    0.    0.    0.    0.    0.    0.    0.    0.]"
       ]
      },
      {
       "output_type": "stream",
       "stream": "stdout",
       "text": [
        "\n",
        "[ 100.    0.   99.    0.    0.    1.    0.    0.    0.    0.    0.    0.\n",
        "    0.    0.    0.    0.    0.    0.    0.    0.]"
       ]
      },
      {
       "output_type": "stream",
       "stream": "stdout",
       "text": [
        "\n",
        "[ 100.    0.   99.    0.    0.    1.    0.    0.    0.    0.    0.    0.\n",
        "    0.    0.    0.    0.    0.    0.    0.    0.]"
       ]
      },
      {
       "output_type": "stream",
       "stream": "stdout",
       "text": [
        "\n",
        "[ 100.    0.   99.    0.    0.    1.    0.    0.    0.    0.    0.    0.\n",
        "    0.    0.    0.    0.    0.    0.    0.    0.]"
       ]
      },
      {
       "output_type": "stream",
       "stream": "stdout",
       "text": [
        "\n",
        "[ 100.    0.   99.    0.    0.    1.    0.    0.    0.    0.    0.    0.\n",
        "    0.    0.    0.    0.    0.    0.    0.    0.]"
       ]
      },
      {
       "output_type": "stream",
       "stream": "stdout",
       "text": [
        "\n",
        "[ 100.    0.   99.    0.    0.    1.    0.    0.    0.    0.    0.    0.\n",
        "    0.    0.    0.    0.    0.    0.    0.    0.]"
       ]
      },
      {
       "output_type": "stream",
       "stream": "stdout",
       "text": [
        "\n",
        "[ 100.    0.   99.    0.    0.    1.    0.    0.    0.    0.    0.    0.\n",
        "    0.    0.    0.    0.    0.    0.    0.    0.]"
       ]
      },
      {
       "output_type": "stream",
       "stream": "stdout",
       "text": [
        "\n",
        "[ 100.    0.   99.    0.    0.    1.    0.    0.    0.    0.    0.    0.\n",
        "    0.    0.    0.    0.    0.    0.    0.    0.]"
       ]
      },
      {
       "output_type": "stream",
       "stream": "stdout",
       "text": [
        "\n",
        "[ 100.    0.   99.    0.    0.    1.    0.    0.    0.    0.    0.    0.\n",
        "    0.    0.    0.    0.    0.    0.    0.    0.]"
       ]
      },
      {
       "output_type": "stream",
       "stream": "stdout",
       "text": [
        "\n",
        "[ 100.    0.   99.    0.    0.    1.    0.    0.    0.    0.    0.    0.\n",
        "    0.    0.    0.    0.    0.    0.    0.    0.]"
       ]
      },
      {
       "output_type": "stream",
       "stream": "stdout",
       "text": [
        "\n",
        "[ 100.    0.   99.    0.    0.    1.    0.    0.    0.    0.    0.    0.\n",
        "    0.    0.    0.    0.    0.    0.    0.    0.]"
       ]
      },
      {
       "output_type": "stream",
       "stream": "stdout",
       "text": [
        "\n",
        "[ 100.    0.   99.    0.    0.    1.    0.    0.    0.    0.    0.    0.\n",
        "    0.    0.    0.    0.    0.    0.    0.    0.]"
       ]
      },
      {
       "output_type": "stream",
       "stream": "stdout",
       "text": [
        "\n",
        "[ 100.    0.   99.    0.    0.    1.    0.    0.    0.    0.    0.    0.\n",
        "    0.    0.    0.    0.    0.    0.    0.    0.]"
       ]
      },
      {
       "output_type": "stream",
       "stream": "stdout",
       "text": [
        "\n",
        "[ 100.    0.   99.    0.    0.    1.    0.    0.    0.    0.    0.    0.\n",
        "    0.    0.    0.    0.    0.    0.    0.    0.]"
       ]
      },
      {
       "output_type": "stream",
       "stream": "stdout",
       "text": [
        "\n",
        "[ 100.    0.   99.    0.    0.    1.    0.    0.    0.    0.    0.    0.\n",
        "    0.    0.    0.    0.    0.    0.    0.    0.]"
       ]
      },
      {
       "output_type": "stream",
       "stream": "stdout",
       "text": [
        "\n",
        "[ 100.    0.   99.    0.    0.    1.    0.    0.    0.    0.    0.    0.\n",
        "    0.    0.    0.    0.    0.    0.    0.    0.]"
       ]
      },
      {
       "output_type": "stream",
       "stream": "stdout",
       "text": [
        "\n",
        "[ 100.    0.   99.    0.    0.    1.    0.    0.    0.    0.    0.    0.\n",
        "    0.    0.    0.    0.    0.    0.    0.    0.]"
       ]
      },
      {
       "output_type": "stream",
       "stream": "stdout",
       "text": [
        "\n",
        "[ 100.    0.   99.    0.    0.    1.    0.    0.    0.    0.    0.    0.\n",
        "    0.    0.    0.    0.    0.    0.    0.    0.]"
       ]
      },
      {
       "output_type": "stream",
       "stream": "stdout",
       "text": [
        "\n",
        "[ 100.    0.   99.    0.    0.    1.    0.    0.    0.    0.    0.    0.\n",
        "    0.    0.    0.    0.    0.    0.    0.    0.]"
       ]
      },
      {
       "output_type": "stream",
       "stream": "stdout",
       "text": [
        "\n",
        "[ 100.    0.   99.    0.    0.    1.    0.    0.    0.    0.    0.    0.\n",
        "    0.    0.    0.    0.    0.    0.    0.    0.]"
       ]
      },
      {
       "output_type": "stream",
       "stream": "stdout",
       "text": [
        "\n",
        "[ 100.    0.   99.    0.    0.    1.    0.    0.    0.    0.    0.    0.\n",
        "    0.    0.    0.    0.    0.    0.    0.    0.]"
       ]
      },
      {
       "output_type": "stream",
       "stream": "stdout",
       "text": [
        "\n",
        "[ 100.    0.   99.    0.    0.    1.    0.    0.    0.    0.    0.    0.\n",
        "    0.    0.    0.    0.    0.    0.    0.    0.]"
       ]
      },
      {
       "output_type": "stream",
       "stream": "stdout",
       "text": [
        "\n",
        "[ 100.    0.   99.    0.    0.    1.    0.    0.    0.    0.    0.    0.\n",
        "    0.    0.    0.    0.    0.    0.    0.    0.]"
       ]
      },
      {
       "output_type": "stream",
       "stream": "stdout",
       "text": [
        "\n",
        "[ 100.    0.   99.    0.    0.    1.    0.    0.    0.    0.    0.    0.\n",
        "    0.    0.    0.    0.    0.    0.    0.    0.]"
       ]
      },
      {
       "output_type": "stream",
       "stream": "stdout",
       "text": [
        "\n",
        "[ 100.    0.   99.    0.    0.    1.    0.    0.    0.    0.    0.    0.\n",
        "    0.    0.    0.    0.    0.    0.    0.    0.]"
       ]
      },
      {
       "output_type": "stream",
       "stream": "stdout",
       "text": [
        "\n",
        "[ 100.    0.   99.    0.    0.    1.    0.    0.    0.    0.    0.    0.\n",
        "    0.    0.    0.    0.    0.    0.    0.    0.]"
       ]
      },
      {
       "output_type": "stream",
       "stream": "stdout",
       "text": [
        "\n",
        "[ 100.    0.   99.    0.    0.    1.    0.    0.    0.    0.    0.    0.\n",
        "    0.    0.    0.    0.    0.    0.    0.    0.]"
       ]
      },
      {
       "output_type": "stream",
       "stream": "stdout",
       "text": [
        "\n",
        "[ 100.    0.   99.    0.    0.    1.    0.    0.    0.    0.    0.    0.\n",
        "    0.    0.    0.    0.    0.    0.    0.    0.]"
       ]
      },
      {
       "output_type": "stream",
       "stream": "stdout",
       "text": [
        "\n",
        "[ 100.    0.   99.    0.    0.    1.    0.    0.    0.    0.    0.    0.\n",
        "    0.    0.    0.    0.    0.    0.    0.    0.]"
       ]
      },
      {
       "output_type": "stream",
       "stream": "stdout",
       "text": [
        "\n",
        "[ 100.    0.   99.    0.    0.    1.    0.    0.    0.    0.    0.    0.\n",
        "    0.    0.    0.    0.    0.    0.    0.    0.]"
       ]
      },
      {
       "output_type": "stream",
       "stream": "stdout",
       "text": [
        "\n",
        "[ 100.    0.   99.    0.    0.    1.    0.    0.    0.    0.    0.    0.\n",
        "    0.    0.    0.    0.    0.    0.    0.    0.]"
       ]
      },
      {
       "output_type": "stream",
       "stream": "stdout",
       "text": [
        "\n",
        "[ 100.    0.   99.    0.    0.    1.    0.    0.    0.    0.    0.    0.\n",
        "    0.    0.    0.    0.    0.    0.    0.    0.]"
       ]
      },
      {
       "output_type": "stream",
       "stream": "stdout",
       "text": [
        "\n",
        "[ 100.    0.   99.    0.    0.    1.    0.    0.    0.    0.    0.    0.\n",
        "    0.    0.    0.    0.    0.    0.    0.    0.]"
       ]
      },
      {
       "output_type": "stream",
       "stream": "stdout",
       "text": [
        "\n",
        "[ 100.    0.   99.    0.    0.    1.    0.    0.    0.    0.    0.    0.\n",
        "    0.    0.    0.    0.    0.    0.    0.    0.]"
       ]
      },
      {
       "output_type": "stream",
       "stream": "stdout",
       "text": [
        "\n",
        "[ 100.    0.   99.    0.    0.    1.    0.    0.    0.    0.    0.    0.\n",
        "    0.    0.    0.    0.    0.    0.    0.    0.]"
       ]
      },
      {
       "output_type": "stream",
       "stream": "stdout",
       "text": [
        "\n",
        "[ 100.    0.   99.    0.    0.    1.    0.    0.    0.    0.    0.    0.\n",
        "    0.    0.    0.    0.    0.    0.    0.    0.]"
       ]
      },
      {
       "output_type": "stream",
       "stream": "stdout",
       "text": [
        "\n",
        "[ 100.    0.   99.    0.    0.    1.    0.    0.    0.    0.    0.    0.\n",
        "    0.    0.    0.    0.    0.    0.    0.    0.]"
       ]
      },
      {
       "output_type": "stream",
       "stream": "stdout",
       "text": [
        "\n",
        "[ 100.    0.   99.    0.    0.    1.    0.    0.    0.    0.    0.    0.\n",
        "    0.    0.    0.    0.    0.    0.    0.    0.]"
       ]
      },
      {
       "output_type": "stream",
       "stream": "stdout",
       "text": [
        "\n"
       ]
      }
     ],
     "prompt_number": 29
    },
    {
     "cell_type": "markdown",
     "metadata": {},
     "source": [
      "Finally, plot the results to see how things look:"
     ]
    },
    {
     "cell_type": "code",
     "collapsed": false,
     "input": [
      "plot_gp_regressors(regressors)"
     ],
     "language": "python",
     "metadata": {},
     "outputs": [
      {
       "output_type": "display_data",
       "png": "[encoded data removed]",
       "text": [
        "<matplotlib.figure.Figure at 0x113487150>"
       ]
      }
     ],
     "prompt_number": 30
    },
    {
     "cell_type": "markdown",
     "metadata": {},
     "source": [
      "A much more pleasing result!"
     ]
    }
   ],
   "metadata": {}
  }
 ]
}